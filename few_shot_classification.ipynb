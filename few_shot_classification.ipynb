{
 "cells": [
  {
   "metadata": {},
   "cell_type": "markdown",
   "source": [
    "# Zero-Shot Text Classification\n",
    "\n",
    "<p>Workflow test di classificazione testo Zero-Shot.</p>\n",
    "Dato il numero di elementi da verificare, eseguirà la classificazione su: </br>\n",
    "    - Riscontro guasti; </br>\n",
    "    - Area di classificazione del guasto; </br>\n",
    "    - Azione intrapresa"
   ],
   "id": "8a77807f92f26ee"
  },
  {
   "metadata": {
    "ExecuteTime": {
     "end_time": "2025-05-30T12:55:37.348210Z",
     "start_time": "2025-05-30T12:55:37.133614Z"
    }
   },
   "cell_type": "code",
   "source": [
    "import pandas as pd\n",
    "import os\n",
    "\n",
    "os.environ[\"CUDA_VISIBLE_DEVICES\"] = \"1\"\n",
    "\n",
    "# Load dataset\n",
    "df = pd.read_excel(\"docs/ClosingNotes - Copy - Copy.xlsx\")\n",
    "\n",
    "# Inspect the first few rows\n",
    "print(df.head())"
   ],
   "id": "adccab1c7ad9316b",
   "outputs": [
    {
     "name": "stdout",
     "output_type": "stream",
     "text": [
      "                                        Closing Note  Selected Selected.1  \\\n",
      "0  Sostituito cassetto da 50 e configurato. Il ca...  CASSETTE        UNK   \n",
      "1  Cassetto in stato inoperativo dopo inceppament...  CASSETTE        UNK   \n",
      "2      Sostituzione cassetti DC fit e unfit. Test ok  CASSETTE        UNK   \n",
      "3  Trovato ATM con fuori servizio su dispensatore...  CASSETTE        UNK   \n",
      "4  Gr: ATM trovato in servizio. Trovate banconote...  CASSETTE        UNK   \n",
      "\n",
      "     Action  Action.1                  Guasto  \n",
      "0  REPLACED  REPLACED      Guasto riscontrato  \n",
      "1  REPLACED  REPLACED      Guasto riscontrato  \n",
      "2  REPLACED  REPLACED      Guasto riscontrato  \n",
      "3   CLEANED   CLEANED      Guasto riscontrato  \n",
      "4  REPLACED  REPLACED  Guasto non riscontrato  \n"
     ]
    }
   ],
   "execution_count": 3
  },
  {
   "metadata": {
    "ExecuteTime": {
     "end_time": "2025-05-30T12:55:37.839095Z",
     "start_time": "2025-05-30T12:55:37.370186Z"
    }
   },
   "cell_type": "code",
   "source": [
    "# Filter out rows without review text\n",
    "df = df.dropna(subset=[\"Closing Note\"]).reset_index(drop=True)\n",
    "\n",
    "# Extract the review texts into X\n",
    "X = df[\"Closing Note\"].tolist()\n",
    "\n",
    "dff = pd.read_excel(\"docs/ReportFeedbacks_2025-05-12_11-25.xlsx\")\n",
    "dff = dff.dropna(subset=[\"Closing Note\"]).reset_index(drop=True)\n",
    "Z = dff[\"Closing Note\"].head(10).tolist()\n"
   ],
   "id": "76292332bad3e836",
   "outputs": [],
   "execution_count": 4
  },
  {
   "metadata": {
    "ExecuteTime": {
     "end_time": "2025-05-30T12:55:37.852993Z",
     "start_time": "2025-05-30T12:55:37.845336Z"
    }
   },
   "cell_type": "code",
   "source": [
    "from sklearn.feature_extraction.text import TfidfVectorizer\n",
    "import numpy as np\n",
    "# Initialize TF-IDF Vectorizer\n",
    "vectorizer = TfidfVectorizer(stop_words='english', max_df=0.7)\n",
    "\n",
    "# Transform the text data to feature vectors\n",
    "X = vectorizer.fit_transform(df[\"Closing Note\"])\n",
    "\n",
    "# Labels\n",
    "y = np.asarray(df[df.columns[1:]])\n",
    "\n",
    "#y = df['Selected']"
   ],
   "id": "2873930b8a21631e",
   "outputs": [],
   "execution_count": 5
  },
  {
   "metadata": {
    "ExecuteTime": {
     "end_time": "2025-05-30T12:55:37.867532Z",
     "start_time": "2025-05-30T12:55:37.861777Z"
    }
   },
   "cell_type": "code",
   "source": [
    "CT = [\"Cash Transport\", \"CT\", \"piatti\", \"LT\", \"ST\", \"PT\"]\n",
    "NE = [\"Note Escrow\", \"NE\", \"nastro\", \"PE\", \"leva 10\", \"ME\", \"precas\", \"escrow\"]\n",
    "NF = [\"Note Feeder\", \"NF\", \"bocchetta\", \"leva 1\", \"sfogliatore\", \"SF\", \"PF\", \"MF\", \"stacker\", \"upper unit\"]\n",
    "NV = [\"Note Validator\", \"NV\", \"leva 7\", \"n validator\", \"SNV\", \"UNV\", \"thickness\", \"Feeder\"]\n",
    "CASSETTE = [\"Cassetto\", \"Cassetti\", \"RC\", \"AC\", \"DC\", \"MC\"]\n",
    "SHUTTER = [\"Shutter\"]\n",
    "\n",
    "areas = CT + NE + NF + NV + CASSETTE + SHUTTER + [\"None\"]\n",
    "\n",
    "NO_ACTION = [\"nessuna azione\"]\n",
    "REPAIRED = [\"riparazione\", \"riposizionat\"]\n",
    "REPLACED = [\"sostituzione\"]\n",
    "CALIBRATED = [\"calibrazione\"]\n",
    "CLEANED = [\"pulizia\", \"rimozione\"]\n",
    "\n",
    "operations = NO_ACTION + REPAIRED + REPLACED + CALIBRATED + CLEANED\n",
    "\n",
    "# Label da sistemare, anche il prompt poichè non affidabile ancora\n",
    "state = [\"Guasto riscontrato\", \"fuori servizio\", \"Guasto non riscontrato\", \"sconosciuto\"]"
   ],
   "id": "a87cd6f1684a7cf5",
   "outputs": [],
   "execution_count": 6
  },
  {
   "metadata": {
    "ExecuteTime": {
     "end_time": "2025-05-30T12:55:38.057665Z",
     "start_time": "2025-05-30T12:55:37.876917Z"
    }
   },
   "cell_type": "code",
   "source": [
    "from pydantic import BaseModel\n",
    "\n",
    "class Classification(BaseModel):\n",
    "    part: str"
   ],
   "id": "bb4f77ea78720191",
   "outputs": [],
   "execution_count": 7
  },
  {
   "metadata": {
    "ExecuteTime": {
     "end_time": "2025-05-30T12:55:40.995208Z",
     "start_time": "2025-05-30T12:55:38.065212Z"
    }
   },
   "cell_type": "code",
   "source": [
    "from sklearn.discriminant_analysis import QuadraticDiscriminantAnalysis\n",
    "from sklearn.naive_bayes import GaussianNB\n",
    "from sklearn.gaussian_process.kernels import RBF\n",
    "from sklearn.gaussian_process import GaussianProcessClassifier\n",
    "from sklearn.multioutput import MultiOutputClassifier\n",
    "from sklearn.svm import LinearSVC\n",
    "from sklearn.linear_model import RidgeClassifier\n",
    "from sklearn.neighbors import KNeighborsClassifier\n",
    "from sklearn.ensemble import RandomForestClassifier, AdaBoostClassifier\n",
    "from sklearn.tree import DecisionTreeClassifier\n",
    "from sklearn.metrics import accuracy_score, classification_report\n",
    "from skollama.models.ollama.classification.few_shot import MultiLabelFewShotOllamaClassifier, DynamicFewShotOllamaClassifier\n",
    "from skllm.datasets import get_multilabel_classification_dataset\n",
    "from skollama.models.ollama.classification.zero_shot import CoTOllamaClassifier\n",
    "\n",
    "#y = [\n",
    "#    \"CASSETTE\", \"CASSETTE\", \"CASSETTE\", \"CASSETTE\", \"CASSETTE\",\n",
    "#    \"CT\", \"CT\", \"CT\", \"CT\", \"CT\",\n",
    "#    \"NE\", \"NE\", \"NE\", \"NE\", \"NE\",\n",
    "#    \"NF\", \"NF\", \"NF\", \"NF\", \"NF\",\n",
    "#    \"NV\", \"NV\", \"NV\", \"NV\", \"NV\",\n",
    "#    \"SHUTTER\", \"SHUTTER\", \"SHUTTER\", \"SHUTTER\", \"SHUTTER\"\n",
    "#]\n",
    "\n",
    "from sklearn.model_selection import train_test_split\n",
    "from sklearn.svm import SVC\n",
    "\n",
    "# Split the dataset into training and testing sets\n",
    "X_train, X_test, y_train, y_test = train_test_split(X, y, test_size=0.2, random_state=123)\n",
    "\n",
    "# Initialize and train the classifier\n",
    "clf = MultiOutputClassifier(KNeighborsClassifier(5))\n",
    "    #GaussianNB())\n",
    "    #AdaBoostClassifier(random_state=42))\n",
    "    #DecisionTreeClassifier(max_depth=25, random_state=23),)\n",
    "clf.fit(X_train.toarray(), y_train)\n",
    "\n",
    "y_pred = clf.predict(X_test.toarray())\n",
    "print(y_pred)\n",
    "\n",
    "# Evaluate the performance\n",
    "#accuracy = accuracy_score(y_test, y_pred)\n",
    "#report = classification_report(y_test, y_pred, zero_division=0.0, labels=areas)\n",
    "\n",
    "#print(f'Accuracy: {accuracy:.4f}')\n",
    "#print('Classification Report:')\n",
    "#print(report)"
   ],
   "id": "b45382cddc1cb6ce",
   "outputs": [
    {
     "name": "stdout",
     "output_type": "stream",
     "text": [
      "[['NV' 'UNK' 'REPLACED' 'REPLACED' 'Guasto riscontrato']\n",
      " ['SHUTTER' 'UNK' 'REPLACED' 'REPLACED' 'Guasto riscontrato']\n",
      " ['CT' 'UNK' 'CLEANED' 'CLEANED' 'Guasto riscontrato']\n",
      " ['SHUTTER' 'UNK' 'CLEANED' 'CLEANED' 'Guasto riscontrato']\n",
      " ['NV' 'UNK' 'REPLACED' 'REPLACED' 'Guasto riscontrato']\n",
      " ['CASSETTE' 'UNK' 'REPLACED' 'REPLACED' 'Guasto riscontrato']\n",
      " ['NV' 'UNK' 'REPLACED' 'REPLACED' 'Guasto riscontrato']]\n"
     ]
    }
   ],
   "execution_count": 8
  },
  {
   "metadata": {
    "ExecuteTime": {
     "end_time": "2025-05-30T12:55:41.064465Z",
     "start_time": "2025-05-30T12:55:41.010042Z"
    }
   },
   "cell_type": "code",
   "source": [
    "def predict_category(text):\n",
    "    \"\"\"\n",
    "    Predict the category of a given text using the trained classifier.\n",
    "    \"\"\"\n",
    "    text_vec = vectorizer.transform([text])\n",
    "    prediction = clf.predict(text_vec.toarray())\n",
    "    return prediction\n",
    "\n",
    "from sklearn.datasets import fetch_20newsgroups\n",
    "\n",
    "\n",
    "# Example usage\n",
    "sample_text = \"\"\"\n",
    "Sostituzione cash transport a causa di una cinghia rotta.Prove ok.\n",
    "\"\"\"\n",
    "predicted_category = predict_category(sample_text)\n",
    "print(f'The predicted categories are: {predicted_category}')"
   ],
   "id": "d11fa5438d6c286b",
   "outputs": [
    {
     "name": "stdout",
     "output_type": "stream",
     "text": [
      "The predicted categories are: [['CT' 'UNK' 'REPLACED' 'REPLACED' 'Guasto riscontrato']]\n"
     ]
    }
   ],
   "execution_count": 9
  },
  {
   "metadata": {
    "ExecuteTime": {
     "end_time": "2025-05-30T12:55:41.841992Z",
     "start_time": "2025-05-30T12:55:41.079038Z"
    }
   },
   "cell_type": "code",
   "source": [
    "import numpy as np\n",
    "\n",
    "df = pd.read_excel(\"docs/ReportFeedbacks_2025-05-12_11-25.xlsx\", index_col=None, na_values=['NA'])\n",
    "df.replace(np.nan, 0, inplace=True)\n",
    "\n",
    "count = 1\n",
    "for row_name, row in df.iterrows():\n",
    "    st1 = row['Closing Note']\n",
    "    if str(st1) == \"0\":\n",
    "        continue\n",
    "    predicted_category = predict_category(str(st1))\n",
    "    print(st1)\n",
    "    print(f'The predicted categories are: {predicted_category}')\n",
    "    count += 1\n",
    "    if count > 20:\n",
    "        break"
   ],
   "id": "8d97cc7eb5905eaf",
   "outputs": [
    {
     "name": "stdout",
     "output_type": "stream",
     "text": [
      "MTA in regolare servizio.\n",
      "Effettuato controllo visivo, e controllo LOG.\n",
      "Effettuate diverse prove di dispensazione e versamento tramite tool.\n",
      "Funzionamento ok.\n",
      "The predicted categories are: [['NV' 'UNK' 'REPLACED' 'REPLACED' 'Guasto riscontrato']]\n",
      "MTA IN SERVIZIO. \n",
      "Anomalia risolta in autonomia dalla filiale.\n",
      "Effettuate verifiche hardware e controllo LOG.\n",
      "Funzionalità ok.\n",
      "The predicted categories are: [['NV' 'UNK' 'REPLACED' 'REPLACED' 'Guasto riscontrato']]\n",
      "MTA FS.\n",
      "Effettuato controllo log e controllo visivo, rinvenute bnc in zona NV e NE, inoltre riposizionate cinghie NE fuori sede.\n",
      "Funzionalità ripristinate prove effettuate con clienti intesa san paolo.\n",
      "The predicted categories are: [['NV' 'UNK' 'REPLACED' 'REPLACED' 'Guasto riscontrato']]\n",
      "Riscontrato mta fs.\n",
      "Effettuati controllo log e controllo visivo dispensatore,  riscontrato pezzo di carta in zona SNV che causava lo scarto delle bnc.\n",
      "Riscontrata inoltre moneta in zona NF, rimossa ed eseguite prove di funzionamento con tool.\n",
      "MTA FS per quadratura.\n",
      "The predicted categories are: [['NV' 'UNK' 'CLEANED' 'CLEANED' 'Guasto riscontrato']]\n",
      "//ATM trovato in servizio.\n",
      "Effettuato controllo accurato dispensatore e cassetti e recupero log.\n",
      "Riscontrata graffetta in zona NF SUP.\n",
      "Rimossa ed eseguite prove di funzionamento con clienti intesa san paolo con esito positivo. \n",
      "The predicted categories are: [['NV' 'UNK' 'CLEANED' 'CLEANED' 'Guasto riscontrato']]\n",
      "Riscontrate bnc inceppate in zona shutter e in zona ct.\n",
      "Rimosse ed effettuate prove di funzionamento con esito positivo.\n",
      "\n",
      "The predicted categories are: [['CASSETTE' 'UNK' 'REPLACED' 'REPLACED' 'Guasto riscontrato']]\n",
      "G.r. apparato trovato in errore 950E. Rilevata leva 10 rimasta aperta probabilmente in fase di ispezione da parte del Service. Rimessa in servizio apparato e rilevato errore anche su FW. Rifatto FW su ricircolatore e testato il corretto funzionamento. Apparato adesso regolarmente funzionante.\n",
      "The predicted categories are: [['CASSETTE' 'UNK' 'REPLACED' 'REPLACED' 'Guasto riscontrato']]\n",
      "Rilevato può dispensatore in errore trovato banconota da 20€ inceppata sul sfogliatore superiore perché ha cartocciata rimossa rimesso in servizio eseguito prove di prelievo con due clienti con esite positivo messo banconota su cassetto AC \n",
      "The predicted categories are: [['CASSETTE' 'UNK' 'REPLACED' 'CLEANED' 'Guasto riscontrato']]\n",
      "Gr. Versamento e prelievo fuori servizio.dopo verifiche la scheda upper unit risulta guasta. Sostituita scheda,riavvio macchina e prove funzionamento con esito positivo.\n",
      "The predicted categories are: [['CASSETTE' 'UNK' 'REPLACED' 'CLEANED' 'Guasto riscontrato']]\n",
      "G.r. rilevato cash transport con piatto dei 20 e dei 50 con sedi rovinate. Eseguita sostituzione cash transport ed eseguito collaudo in prelievo e versamento con diagnostico con esito positivo. \n",
      "Effettuato prelievi e versamenti da applicativo con cassiera con esito positivo.\n",
      "Apparato in regolare servizio utente. \n",
      "The predicted categories are: [['CT' 'UNK' 'REPLACED' 'CLEANED' 'Guasto riscontrato']]\n",
      "ATM fuori servizio. Filiale ha rimosso una banconota con graffetta attaccata che ha mandato cinghie escrow fuori sede, riposizionate cinghie. Verifica totale dispensatore senza presentare ulteriori anomalie. Prove con clientela intesa sanpaolo con risultati positivi. ATM in regolare servizio.\n",
      "The predicted categories are: [['NE' 'UNK' 'REPLACED' 'REPLACED' 'Guasto riscontrato']]\n",
      "G.R. sfogliatore parte inferiore presenta una cinghia spezzata.\n",
      "Sostituito sfogliatore parte inferiore, eseguito taratura deviatore note feeder inferiore, test di collaudo con esito positivo. \n",
      "Inoltre su MTA asset 8717 la filiale segnala errata classificazione delle banconote: eseguita pulizia e calibrazione del validatore banconote, eseguito EtoolNV e test con banconote reali, riavvio apparato e verifica ritorno in servizio con esito positivo. \n",
      "\n",
      "The predicted categories are: [['NF' 'UNK' 'CLEANED' 'CLEANED' 'Guasto riscontrato']]\n",
      "Al mio arrivo rilevo atm acceso ma con problemi dispensatore in quanto elastico e moneta inceppati su shutter, rimosso anche banconote inceppate e consegnate al cliente. Ora funziona correttamente \n",
      "The predicted categories are: [['CASSETTE' 'UNK' 'CLEANED' 'CLEANED' 'Guasto riscontrato']]\n",
      "G.r. atm fuoriservizio al mio arrivo. Si riscontra leva 10 aperta e non allineata alla parte di serraggio. Effettuo il ripristino della leva 10 e test di funzionamento con esito positivo. Atm rimane fuori servizio per gestione contabile.\n",
      "The predicted categories are: [['CASSETTE' 'UNK' 'REPLACED' 'REPLACED' 'Guasto riscontrato']]\n",
      "Effettuate verifiche hw con ST, il led risulta commutare correttamente tramite il tool di test. Vedi note interne \n",
      "The predicted categories are: [['CASSETTE' 'UNK' 'REPLACED' 'CLEANED' 'Guasto riscontrato']]\n",
      "Al mio arrivo il bancomat funzionava regolarmente, eseguito test shutter con esito positivo, eseguito pulizia dispensatore,macchina funzionante.\n",
      "The predicted categories are: [['CASSETTE' 'UNK' 'CLEANED' 'CLEANED' 'Guasto riscontrato']]\n",
      "Eseguita pulizia cassetti, riscontrato piccolo frammento di bnc uscito fuori dal cassetto durante l operazione di pulizia, atm in servizio utente. \n",
      "The predicted categories are: [['CASSETTE' 'UNK' 'CLEANED' 'CLEANED' 'Guasto riscontrato']]\n",
      "G.r. dispensatore banconote fuori servizio, eseguita rimozione banconota da €10 inceppata su note feeder superiore, test funzionalità versamento e dispensazione con esito positivo\n",
      "The predicted categories are: [['NF' 'UNK' 'CLEANED' 'CLEANED' 'Guasto riscontrato']]\n",
      "Guasto riscontrato inserita banconota arrotolata stretta che ha causato l'inceppamento. Eseguita rimozione e test. Atm ok\n",
      "The predicted categories are: [['NV' 'UNK' 'CLEANED' 'CLEANED' 'Guasto riscontrato']]\n",
      "Guasto riscontrato banconote inserita in verticale, eseguita rimozione e test ATM ok\n",
      "The predicted categories are: [['CASSETTE' 'UNK' 'REPLACED' 'REPLACED' 'Guasto riscontrato']]\n"
     ]
    }
   ],
   "execution_count": 10
  }
 ],
 "metadata": {
  "kernelspec": {
   "display_name": "Python 3",
   "language": "python",
   "name": "python3"
  },
  "language_info": {
   "codemirror_mode": {
    "name": "ipython",
    "version": 2
   },
   "file_extension": ".py",
   "mimetype": "text/x-python",
   "name": "python",
   "nbconvert_exporter": "python",
   "pygments_lexer": "ipython2",
   "version": "2.7.6"
  }
 },
 "nbformat": 4,
 "nbformat_minor": 5
}
