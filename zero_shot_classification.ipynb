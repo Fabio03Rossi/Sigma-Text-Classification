{
 "cells": [
  {
   "metadata": {},
   "cell_type": "markdown",
   "source": [
    "# Zero-Shot Text Classification\n",
    "\n",
    "Una delle metodologie affrontate durante la fase di sperimentazione.\n",
    "\n",
    "Utilizza la libreria Transformers in modo da poter instanziare una pipeline definita per questa task."
   ],
   "id": "fdce44df126ffc98"
  },
  {
   "metadata": {
    "ExecuteTime": {
     "end_time": "2025-07-04T09:18:28.363971Z",
     "start_time": "2025-07-04T09:18:24.710888Z"
    }
   },
   "cell_type": "code",
   "source": [
    "import os\n",
    "\n",
    "os.system(\"pip install transformers\")"
   ],
   "id": "d84475858580cb06",
   "outputs": [
    {
     "data": {
      "text/plain": [
       "0"
      ]
     },
     "execution_count": 20,
     "metadata": {},
     "output_type": "execute_result"
    }
   ],
   "execution_count": 20
  },
  {
   "metadata": {},
   "cell_type": "markdown",
   "source": "Definiamo il modello che verrà usato per la classificazione e un valore di confidenza minimo per poter considerare valida una classificazione. Questo perchè il risultato che otterremo non consiste in delle vere e proprie scelte del modello, ma in un valore di confidenza per ogni label definita ordinati in ordine decrescente. Spetta a noi decidere cosa è valido o meno.",
   "id": "d6bf43aee86b236e"
  },
  {
   "metadata": {
    "ExecuteTime": {
     "end_time": "2025-07-04T09:18:28.414532Z",
     "start_time": "2025-07-04T09:18:28.406853Z"
    }
   },
   "cell_type": "code",
   "source": [
    "# Modello italiano valido\n",
    "MODEL = \"Jiva/xlm-roberta-large-it-mnli\"\n",
    "\n",
    "# Percentuale minima per considerare valida una classificazione\n",
    "MIN_CONFIDENCE = 0.13"
   ],
   "id": "fee80b086517e03f",
   "outputs": [],
   "execution_count": 21
  },
  {
   "metadata": {},
   "cell_type": "markdown",
   "source": "Si definiscono delle liste di label assegnate ad ogni area, includendo tutte quelle label che risultano essere sinonimi di quella determinata area. Si va anche a definire una lista completa che daremo al modello.",
   "id": "55fd0d676bfece97"
  },
  {
   "metadata": {
    "ExecuteTime": {
     "end_time": "2025-07-04T09:18:28.449723Z",
     "start_time": "2025-07-04T09:18:28.436792Z"
    }
   },
   "cell_type": "code",
   "source": [
    "# Lista di label associata a ciascun modulo\n",
    "CT = [\"Cash Transport\", \"CT\", \"piatti\", \"LT\", \"ST\", \"PT\"]\n",
    "NE = [\"Note Escrow\", \"NE\", \"nastro\", \"PE\", \"leva 10\", \"ME\", \"precas\"]\n",
    "NF = [\"Note Feeder\", \"NF\", \"bocchetta\", \"leva 1\", \"sfogliatore\", \"SF\", \"PF\", \"MF\", \"stacker\"]\n",
    "NV = [\"Node Validator\", \"NV\", \"leva 7\", \"n validator\", \"SNV\", \"UNV\", \"thickness\", \"Feeder\"]\n",
    "CASSETTE = [\"Cassett\", \"RC\", \"AC\", \"DC\", \"MC\"]\n",
    "SHUTTER = [\"Shutter\"]\n",
    "\n",
    "areas = CT + NE + NF + NV + CASSETTE + SHUTTER"
   ],
   "id": "301c57b384947017",
   "outputs": [],
   "execution_count": 22
  },
  {
   "metadata": {},
   "cell_type": "markdown",
   "source": [
    "Qui di seguito si definiscono quelle che sono le funzioni per ogni operazione che si andrà a svolgere.\n",
    "\n",
    "classify_text è la funzione che si occupa di effettuare la vera e propria classificazione ed il parsing immediato del risultato ottenuto.\n",
    "\n",
    "parse_higher_result invece estrapola il risultato con confidenza maggiore, e tutti i risultati la cui confidenza è maggiore di quella definita precedentemente.\n",
    "Delimita inoltre la classificazione alle sole aree base mappando la label riconosciuta con la rispettiva lista di appartenenza.\n",
    "\n",
    "elaborate_prompt richiama le funzioni descritte ed effettua il parsing del risultato in formato JSON."
   ],
   "id": "f2017eb5dce220f1"
  },
  {
   "metadata": {
    "ExecuteTime": {
     "end_time": "2025-07-04T09:18:28.471555Z",
     "start_time": "2025-07-04T09:18:28.460479Z"
    }
   },
   "cell_type": "code",
   "source": [
    "# Zero-Shot Text Classification\n",
    "def classify_text(text, labels, prompt: str = \"si parla di {}\"):\n",
    "    result = classifier(text, labels, hypothesis_template=prompt)\n",
    "    return {label: score for label, score in zip(result[\"labels\"], result[\"scores\"])}\n",
    "\n",
    "# Elaborazione del risultato\n",
    "def parse_higher_result(classification, text):\n",
    "    evaluation = max(classification.keys(), key=(lambda key: classification[key]))\n",
    "\n",
    "    print(str(classification))\n",
    "\n",
    "    # Se il modello non è abbastanza sicuro, si considera sconosciuto\n",
    "    if classification[evaluation] < MIN_CONFIDENCE:\n",
    "        return \"UNK\"\n",
    "\n",
    "    if evaluation in CT:\n",
    "        return \"CT\"\n",
    "    elif evaluation in NE:\n",
    "        return \"NE\"\n",
    "    elif evaluation in NF:\n",
    "        return \"NF\"\n",
    "    elif evaluation in NV:\n",
    "        return \"NV\"\n",
    "    elif evaluation in CASSETTE:\n",
    "        return \"CASSETTE\"\n",
    "    elif evaluation in SHUTTER:\n",
    "        return \"SHUTTER\"\n",
    "\n",
    "    return \"UNK\"\n",
    "\n",
    "# Esecuzione totale del prompt\n",
    "def elaborate_prompt(text):\n",
    "    if text.strip() == \"\" or text.strip() is None or text.strip() == '' or text.strip() == '0':\n",
    "        return \"\"\"{\"selection\": \"UNK\"}\"\"\"\n",
    "\n",
    "    classified = classify_text(text, areas, \"La componente di cui si parla è {}\")\n",
    "\n",
    "    result = '{\"selection\": \"' + parse_higher_result(classified, text) + '\"}' + \"\\n\"\n",
    "    return result"
   ],
   "id": "d4a65fbf62e070f0",
   "outputs": [],
   "execution_count": 23
  },
  {
   "metadata": {},
   "cell_type": "markdown",
   "source": [
    "Per l'inferenza si definisce l'oggetto classificatore attraverso la pipeline di Transformers.\n",
    "Si specifica la task che in questo caso è zero-shot-classification, e altri parametri come il modello e la specifica dell'utilizzo della GPU."
   ],
   "id": "5e2fe74676063576"
  },
  {
   "metadata": {
    "ExecuteTime": {
     "end_time": "2025-07-04T09:18:36.281471Z",
     "start_time": "2025-07-04T09:18:28.484570Z"
    }
   },
   "cell_type": "code",
   "source": [
    "from transformers import pipeline\n",
    "\n",
    "# Rimane di gran lunga il metodo più affidabile in generale, il metodo riflessivo è troppo confuso\n",
    "classifier = pipeline(\n",
    "    \"zero-shot-classification\",\n",
    "    model=MODEL,\n",
    "    device=\"cuda\",\n",
    "    use_fast=True\n",
    ")"
   ],
   "id": "4b9e6497fdb138c4",
   "outputs": [
    {
     "name": "stderr",
     "output_type": "stream",
     "text": [
      "Device set to use cuda\n"
     ]
    }
   ],
   "execution_count": 24
  },
  {
   "metadata": {},
   "cell_type": "markdown",
   "source": "Infine semplicemente richiamiamo la funzione elaborate_prompt che dato un testo da classificare, ritornerà la selezione parsata.",
   "id": "92e940c2f63e9804"
  },
  {
   "metadata": {
    "ExecuteTime": {
     "end_time": "2025-07-04T09:18:40.067558Z",
     "start_time": "2025-07-04T09:18:36.295102Z"
    }
   },
   "cell_type": "code",
   "source": "elaborate_prompt(\"Riscontrata banconota inceppata nel CT. Rimozione e test ok\")",
   "id": "3e6b3855b0a26f57",
   "outputs": [
    {
     "name": "stdout",
     "output_type": "stream",
     "text": [
      "{'CT': 0.16946330666542053, 'Cash Transport': 0.04899828881025314, 'LT': 0.03893483802676201, 'Note Escrow': 0.03788568824529648, 'PT': 0.037771668285131454, 'Cassett': 0.03605511784553528, 'bocchetta': 0.03446636348962784, 'SNV': 0.03099001757800579, 'NE': 0.02866402640938759, 'NV': 0.02690412662923336, 'MF': 0.02689838595688343, 'precas': 0.026827262714505196, 'UNV': 0.026514099910855293, 'piatti': 0.02645251527428627, 'ST': 0.024740444496273994, 'thickness': 0.024396777153015137, 'NF': 0.024251079186797142, 'MC': 0.0228794626891613, 'PE': 0.022639406844973564, 'PF': 0.021710975095629692, 'RC': 0.021312743425369263, 'SF': 0.02100963704288006, 'stacker': 0.02020789310336113, 'Note Feeder': 0.019959069788455963, 'Node Validator': 0.019108954817056656, 'sfogliatore': 0.018979569897055626, 'Feeder': 0.01850590482354164, 'Shutter': 0.018345283344388008, 'DC': 0.016499020159244537, 'leva 1': 0.01591811329126358, 'n validator': 0.015762493014335632, 'AC': 0.015050403773784637, 'leva 7': 0.01154065690934658, 'ME': 0.01110775675624609, 'leva 10': 0.010315688326954842, 'nastro': 0.008932951837778091}\n"
     ]
    },
    {
     "data": {
      "text/plain": [
       "'{\"selection\": \"CT\"}\\n'"
      ]
     },
     "execution_count": 25,
     "metadata": {},
     "output_type": "execute_result"
    }
   ],
   "execution_count": 25
  }
 ],
 "metadata": {},
 "nbformat": 4,
 "nbformat_minor": 5
}
